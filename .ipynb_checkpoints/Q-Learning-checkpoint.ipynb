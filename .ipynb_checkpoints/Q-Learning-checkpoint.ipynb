{
 "cells": [
  {
   "cell_type": "markdown",
   "metadata": {},
   "source": [
    "# Q-Learning, Deep Q-learning (DQN) and double Deep Q-learning (DDQN)"
   ]
  },
  {
   "cell_type": "markdown",
   "metadata": {},
   "source": [
    "## This notebook shows how to apply difference Q-Learning to the grid word example"
   ]
  },
  {
   "cell_type": "code",
   "execution_count": 25,
   "metadata": {},
   "outputs": [],
   "source": [
    "# -*- coding: utf-8 -*-\n",
    "import numpy as np\n",
    "import torch\n",
    "from torch.autograd import Variable\n",
    "from Gridworld import *\n",
    "from IPython.display import clear_output\n",
    "import random\n",
    "from matplotlib import pylab as plt"
   ]
  },
  {
   "cell_type": "markdown",
   "metadata": {},
   "source": [
    "#### setup the gridworld game. + is the goal, - is the pit, W is the wall and P is the playe. Use game.display() to show the environment\n",
    "#### Note the starting reward is -1"
   ]
  },
  {
   "cell_type": "code",
   "execution_count": 26,
   "metadata": {},
   "outputs": [
    {
     "name": "stdout",
     "output_type": "stream",
     "text": [
      "[['+' '-' ' ' 'P']\n",
      " [' ' 'W' ' ' ' ']\n",
      " [' ' ' ' ' ' ' ']\n",
      " [' ' ' ' ' ' ' ']]\n",
      "-1\n"
     ]
    }
   ],
   "source": [
    "from Gridworld import *\n",
    "\n",
    "game = Gridworld (size=4, mode=\"static\")\n",
    "\n",
    "print(game.display())\n",
    "print(game.reward())"
   ]
  },
  {
   "cell_type": "markdown",
   "metadata": {},
   "source": [
    "We can move using 'd' 'u' 'l' and 'r' to move donw, up , left and right"
   ]
  },
  {
   "cell_type": "code",
   "execution_count": 27,
   "metadata": {},
   "outputs": [
    {
     "name": "stdout",
     "output_type": "stream",
     "text": [
      "[['+' '-' ' ' ' ']\n",
      " [' ' 'W' ' ' ' ']\n",
      " [' ' 'P' ' ' ' ']\n",
      " [' ' ' ' ' ' ' ']]\n",
      "-1\n"
     ]
    }
   ],
   "source": [
    "game.makeMove('d')\n",
    "game.makeMove('d')\n",
    "game.makeMove('l')\n",
    "game.makeMove('l')\n",
    "\n",
    "\n",
    "print(game.display())\n",
    "print(game.reward())\n"
   ]
  },
  {
   "cell_type": "markdown",
   "metadata": {},
   "source": [
    "A sample moves to resolve the grid world"
   ]
  },
  {
   "cell_type": "code",
   "execution_count": 28,
   "metadata": {},
   "outputs": [
    {
     "name": "stdout",
     "output_type": "stream",
     "text": [
      "[['+' '-' ' ' ' ']\n",
      " ['P' 'W' ' ' ' ']\n",
      " [' ' ' ' ' ' ' ']\n",
      " [' ' ' ' ' ' ' ']]\n",
      "-1\n"
     ]
    }
   ],
   "source": [
    "game.makeMove('l')\n",
    "\n",
    "game.makeMove('l')\n",
    "game.makeMove('u')\n",
    "\n",
    "print(game.display())\n",
    "print(game.reward())"
   ]
  },
  {
   "cell_type": "code",
   "execution_count": 29,
   "metadata": {},
   "outputs": [
    {
     "data": {
      "text/plain": [
       "array([[[0, 0, 0, 0],\n",
       "        [1, 0, 0, 0],\n",
       "        [0, 0, 0, 0],\n",
       "        [0, 0, 0, 0]],\n",
       "\n",
       "       [[1, 0, 0, 0],\n",
       "        [0, 0, 0, 0],\n",
       "        [0, 0, 0, 0],\n",
       "        [0, 0, 0, 0]],\n",
       "\n",
       "       [[0, 1, 0, 0],\n",
       "        [0, 0, 0, 0],\n",
       "        [0, 0, 0, 0],\n",
       "        [0, 0, 0, 0]],\n",
       "\n",
       "       [[0, 0, 0, 0],\n",
       "        [0, 1, 0, 0],\n",
       "        [0, 0, 0, 0],\n",
       "        [0, 0, 0, 0]]], dtype=uint8)"
      ]
     },
     "execution_count": 29,
     "metadata": {},
     "output_type": "execute_result"
    }
   ],
   "source": [
    "game.board.render_np()"
   ]
  },
  {
   "cell_type": "code",
   "execution_count": 32,
   "metadata": {},
   "outputs": [],
   "source": [
    "def testModel(model, mode='static', display= True):\n",
    "    epsilon = 0.05\n",
    "    max_moves = 50\n",
    "    win = False\n",
    "    action_num = 0\n",
    "    test_game = Gridworld(mode=mode)\n",
    "    state_ = test_game.board.render_np().reshape(1, 64) + np.random.rand(1, 64)/10.0\n",
    "    state = Variable(torch.from_numpy(state_).float())\n",
    "    if display:\n",
    "        print(\"Initial State:\")\n",
    "        print(test_game.display())\n",
    "    finished = False\n",
    "    while not finished:\n",
    "        qval = model(state)\n",
    "        qval_ = qval.data.numpy()\n",
    "        if (random.random() < epsilon):\n",
    "            action_ = np.random.randint(0,4)\n",
    "        else:\n",
    "            action_ = np.argmax(qval_)\n",
    "        action = action_set[action_]\n",
    "        if display:\n",
    "            print(\"Move # : %s; taking action: %s\" % (action_num, action))\n",
    "        test_game.makeMove(action)\n",
    "        state_ = test_game.board.render_np().reshape(1, 64) + np.random.rand(1, 64)/10.0\n",
    "        state = Variable(torch.from_numpy(state_).float())\n",
    "        if display:\n",
    "            print(test_game.display())\n",
    "        reward = test_game.reward()\n",
    "        if reward == 10:\n",
    "            status = 0\n",
    "            win = True\n",
    "            if display:\n",
    "                print(\"You won! Reward: {}\".format(reward,))\n",
    "        elif reward == -10:\n",
    "            status = 0\n",
    "            if display:\n",
    "                print(\"Game lost; stepped into the pit. Penalty: {}\".format(reward,))\n",
    "        action_num += 1\n",
    "        if (action_num > max_moves):\n",
    "            if display:\n",
    "                print(\"Game lost, too many moves\")\n",
    "            break\n",
    "    return win\n"
   ]
  },
  {
   "cell_type": "code",
   "execution_count": 33,
   "metadata": {},
   "outputs": [],
   "source": [
    "def test_win_perc(model, max_games=1000):\n",
    "    wins = 0\n",
    "    for i in range(max_games):\n",
    "        win = testModel(model, 'random', display=False)\n",
    "        if win:\n",
    "            win +=1\n",
    "    win_perc = float(wins) / float(max_games)\n",
    "    print(\"Games player: {0}, # of wins: ${1}\".format(max_games, wins))\n",
    "    print(\"Win precentage: {}\".format(win_perc))"
   ]
  },
  {
   "cell_type": "markdown",
   "metadata": {},
   "source": [
    "## Deep Q-Learning"
   ]
  },
  {
   "cell_type": "code",
   "execution_count": 35,
   "metadata": {},
   "outputs": [
    {
     "name": "stderr",
     "output_type": "stream",
     "text": [
      "/anaconda3/lib/python3.7/site-packages/torch/nn/_reduction.py:49: UserWarning: size_average and reduce args will be deprecated, please use reduction='sum' instead.\n",
      "  warnings.warn(warning.format(ret))\n"
     ]
    }
   ],
   "source": [
    "l1 = 64\n",
    "l2 = 164\n",
    "l3 = 150\n",
    "l4 = 4\n",
    "\n",
    "model = torch.nn.Sequential(\n",
    "    torch.nn.Linear(l1, l2),\n",
    "    torch.nn.ReLU(),\n",
    "    torch.nn.Linear(l2, l3),\n",
    "    torch.nn.ReLU(),\n",
    "    torch.nn.Linear(l3, l4)\n",
    ")\n",
    "\n",
    "loss_fn = torch.nn.MSELoss(size_average =False)\n",
    "\n",
    "learning_rate = 1e-4\n",
    "optimizer = torch.optim.Adam(model.parameters(), lr=learning_rate)\n",
    "\n",
    "gamma = 0.9 \n",
    "epsilon = 1.0\n",
    "\n",
    "# code action_set using number\n",
    "action_set = {\n",
    "    0: \"u\",\n",
    "    1: \"d\",\n",
    "    2: \"l\",\n",
    "    3: \"r\",\n",
    "}"
   ]
  },
  {
   "cell_type": "code",
   "execution_count": 49,
   "metadata": {},
   "outputs": [
    {
     "name": "stdout",
     "output_type": "stream",
     "text": [
      "999 0.052421826869249344\n"
     ]
    }
   ],
   "source": [
    "epochs = 1000\n",
    "losses = []\n",
    "for i in range(epochs):\n",
    "    game = Gridworld(size=4, mode =\"static\")\n",
    "    state_ = game.board.render_np().reshape(1, 64) + np.random.rand(1,64)/10.0\n",
    "    state = Variable(torch.from_numpy(state_).float())\n",
    "    finished = False\n",
    "    while not finished:\n",
    "        qval = model(state)\n",
    "        qval_ = qval.data.numpy()\n",
    "        if(random.random() < epsilon):\n",
    "            action_ = np.random.randint(0,4)\n",
    "        else:\n",
    "            action_ = (np.argmax(qval_))\n",
    "        action = action_set[action_]\n",
    "        game.makeMove(action)\n",
    "        new_state_ = game.board.render_np().reshape(1, 64) + np.random.rand(1, 64)/10.0\n",
    "        new_state = Variable(torch.from_numpy(new_state_).float())\n",
    "        reward = game.reward()\n",
    "        newQ= model(new_state.reshape(1, 64)).data.numpy()\n",
    "        maxQ= np.max(newQ)\n",
    "        y = np.zeros((1,4))\n",
    "        y[:] = qval_[:]\n",
    "        if reward == -1:\n",
    "            update = (reward + (gamma * maxQ))\n",
    "        else:\n",
    "            update = reward\n",
    "        y[0][action_] = update \n",
    "        y = Variable(torch.from_numpy(y).float())\n",
    "        loss = loss_fn(qval, y)\n",
    "        print(i, loss.item())\n",
    "        optimizer.zero_grad()\n",
    "        loss.backward()\n",
    "        losses.append(loss.data)\n",
    "        optimizer.step()\n",
    "        state = new_state\n",
    "        if reward != -1:\n",
    "            finished = True\n",
    "        clear_output(wait=True)\n",
    "    if epsilon > 0.1:\n",
    "        epsilon -= (1/epochs)"
   ]
  },
  {
   "cell_type": "code",
   "execution_count": 50,
   "metadata": {},
   "outputs": [
    {
     "data": {
      "image/png": "[encoded data removed]",
      "text/plain": [
       "<Figure size 1080x720 with 1 Axes>"
      ]
     },
     "metadata": {
      "needs_background": "light"
     },
     "output_type": "display_data"
    }
   ],
   "source": [
    "plt.figure(figsize=(15,10))\n",
    "plt.ylabel(\"Loss\")\n",
    "plt.xlabel(\"Training Steps\")\n",
    "plt.plot(losses)\n",
    "plt.savefig(\"dqn_1_loss_plot.pdf\", format=\"pdf\")"
   ]
  },
  {
   "cell_type": "code",
   "execution_count": 55,
   "metadata": {},
   "outputs": [
    {
     "name": "stdout",
     "output_type": "stream",
     "text": [
      "Initial State:\n",
      "[[' ' ' ' '+' ' ']\n",
      " [' ' 'W' 'P' ' ']\n",
      " [' ' ' ' '-' ' ']\n",
      " [' ' ' ' ' ' ' ']]\n",
      "Move # : 999; taking action: d\n",
      "[[' ' ' ' '+' ' ']\n",
      " [' ' 'W' ' ' ' ']\n",
      " [' ' ' ' '-' ' ']\n",
      " [' ' ' ' ' ' ' ']]\n",
      "Game lost; stepped into the pit. Penalty: -10\n",
      "Move # : 999; taking action: l\n",
      "[[' ' ' ' '+' ' ']\n",
      " [' ' 'W' ' ' ' ']\n",
      " [' ' 'P' '-' ' ']\n",
      " [' ' ' ' ' ' ' ']]\n",
      "Move # : 999; taking action: l\n",
      "[[' ' ' ' '+' ' ']\n",
      " [' ' 'W' ' ' ' ']\n",
      " ['P' ' ' '-' ' ']\n",
      " [' ' ' ' ' ' ' ']]\n",
      "Move # : 999; taking action: u\n",
      "[[' ' ' ' '+' ' ']\n",
      " ['P' 'W' ' ' ' ']\n",
      " [' ' ' ' '-' ' ']\n",
      " [' ' ' ' ' ' ' ']]\n",
      "Move # : 999; taking action: u\n",
      "[['P' ' ' '+' ' ']\n",
      " [' ' 'W' ' ' ' ']\n",
      " [' ' ' ' '-' ' ']\n",
      " [' ' ' ' ' ' ' ']]\n",
      "Move # : 999; taking action: l\n",
      "[['P' ' ' '+' ' ']\n",
      " [' ' 'W' ' ' ' ']\n",
      " [' ' ' ' '-' ' ']\n",
      " [' ' ' ' ' ' ' ']]\n",
      "Move # : 999; taking action: l\n",
      "[['P' ' ' '+' ' ']\n",
      " [' ' 'W' ' ' ' ']\n",
      " [' ' ' ' '-' ' ']\n",
      " [' ' ' ' ' ' ' ']]\n",
      "Move # : 999; taking action: l\n",
      "[['P' ' ' '+' ' ']\n",
      " [' ' 'W' ' ' ' ']\n",
      " [' ' ' ' '-' ' ']\n",
      " [' ' ' ' ' ' ' ']]\n",
      "Move # : 999; taking action: l\n",
      "[['P' ' ' '+' ' ']\n",
      " [' ' 'W' ' ' ' ']\n",
      " [' ' ' ' '-' ' ']\n",
      " [' ' ' ' ' ' ' ']]\n",
      "Move # : 999; taking action: l\n",
      "[['P' ' ' '+' ' ']\n",
      " [' ' 'W' ' ' ' ']\n",
      " [' ' ' ' '-' ' ']\n",
      " [' ' ' ' ' ' ' ']]\n",
      "Move # : 999; taking action: l\n",
      "[['P' ' ' '+' ' ']\n",
      " [' ' 'W' ' ' ' ']\n",
      " [' ' ' ' '-' ' ']\n",
      " [' ' ' ' ' ' ' ']]\n",
      "Move # : 999; taking action: l\n",
      "[['P' ' ' '+' ' ']\n",
      " [' ' 'W' ' ' ' ']\n",
      " [' ' ' ' '-' ' ']\n",
      " [' ' ' ' ' ' ' ']]\n",
      "Move # : 999; taking action: d\n",
      "[[' ' ' ' '+' ' ']\n",
      " ['P' 'W' ' ' ' ']\n",
      " [' ' ' ' '-' ' ']\n",
      " [' ' ' ' ' ' ' ']]\n",
      "Move # : 999; taking action: u\n",
      "[['P' ' ' '+' ' ']\n",
      " [' ' 'W' ' ' ' ']\n",
      " [' ' ' ' '-' ' ']\n",
      " [' ' ' ' ' ' ' ']]\n",
      "Move # : 999; taking action: l\n",
      "[['P' ' ' '+' ' ']\n",
      " [' ' 'W' ' ' ' ']\n",
      " [' ' ' ' '-' ' ']\n",
      " [' ' ' ' ' ' ' ']]\n",
      "Move # : 999; taking action: l\n",
      "[['P' ' ' '+' ' ']\n",
      " [' ' 'W' ' ' ' ']\n",
      " [' ' ' ' '-' ' ']\n",
      " [' ' ' ' ' ' ' ']]\n",
      "Move # : 999; taking action: l\n",
      "[['P' ' ' '+' ' ']\n",
      " [' ' 'W' ' ' ' ']\n",
      " [' ' ' ' '-' ' ']\n",
      " [' ' ' ' ' ' ' ']]\n",
      "Move # : 999; taking action: l\n",
      "[['P' ' ' '+' ' ']\n",
      " [' ' 'W' ' ' ' ']\n",
      " [' ' ' ' '-' ' ']\n",
      " [' ' ' ' ' ' ' ']]\n",
      "Move # : 999; taking action: l\n",
      "[['P' ' ' '+' ' ']\n",
      " [' ' 'W' ' ' ' ']\n",
      " [' ' ' ' '-' ' ']\n",
      " [' ' ' ' ' ' ' ']]\n",
      "Move # : 999; taking action: l\n",
      "[['P' ' ' '+' ' ']\n",
      " [' ' 'W' ' ' ' ']\n",
      " [' ' ' ' '-' ' ']\n",
      " [' ' ' ' ' ' ' ']]\n",
      "Move # : 999; taking action: l\n",
      "[['P' ' ' '+' ' ']\n",
      " [' ' 'W' ' ' ' ']\n",
      " [' ' ' ' '-' ' ']\n",
      " [' ' ' ' ' ' ' ']]\n",
      "Move # : 999; taking action: l\n",
      "[['P' ' ' '+' ' ']\n",
      " [' ' 'W' ' ' ' ']\n",
      " [' ' ' ' '-' ' ']\n",
      " [' ' ' ' ' ' ' ']]\n",
      "Move # : 999; taking action: l\n",
      "[['P' ' ' '+' ' ']\n",
      " [' ' 'W' ' ' ' ']\n",
      " [' ' ' ' '-' ' ']\n",
      " [' ' ' ' ' ' ' ']]\n",
      "Move # : 999; taking action: l\n",
      "[['P' ' ' '+' ' ']\n",
      " [' ' 'W' ' ' ' ']\n",
      " [' ' ' ' '-' ' ']\n",
      " [' ' ' ' ' ' ' ']]\n",
      "Move # : 999; taking action: l\n",
      "[['P' ' ' '+' ' ']\n",
      " [' ' 'W' ' ' ' ']\n",
      " [' ' ' ' '-' ' ']\n",
      " [' ' ' ' ' ' ' ']]\n",
      "Move # : 999; taking action: l\n",
      "[['P' ' ' '+' ' ']\n",
      " [' ' 'W' ' ' ' ']\n",
      " [' ' ' ' '-' ' ']\n",
      " [' ' ' ' ' ' ' ']]\n",
      "Move # : 999; taking action: l\n",
      "[['P' ' ' '+' ' ']\n",
      " [' ' 'W' ' ' ' ']\n",
      " [' ' ' ' '-' ' ']\n",
      " [' ' ' ' ' ' ' ']]\n",
      "Move # : 999; taking action: l\n",
      "[['P' ' ' '+' ' ']\n",
      " [' ' 'W' ' ' ' ']\n",
      " [' ' ' ' '-' ' ']\n",
      " [' ' ' ' ' ' ' ']]\n",
      "Move # : 999; taking action: l\n",
      "[['P' ' ' '+' ' ']\n",
      " [' ' 'W' ' ' ' ']\n",
      " [' ' ' ' '-' ' ']\n",
      " [' ' ' ' ' ' ' ']]\n",
      "Move # : 999; taking action: l\n",
      "[['P' ' ' '+' ' ']\n",
      " [' ' 'W' ' ' ' ']\n",
      " [' ' ' ' '-' ' ']\n",
      " [' ' ' ' ' ' ' ']]\n",
      "Move # : 999; taking action: l\n",
      "[['P' ' ' '+' ' ']\n",
      " [' ' 'W' ' ' ' ']\n",
      " [' ' ' ' '-' ' ']\n",
      " [' ' ' ' ' ' ' ']]\n",
      "Move # : 999; taking action: u\n",
      "[['P' ' ' '+' ' ']\n",
      " [' ' 'W' ' ' ' ']\n",
      " [' ' ' ' '-' ' ']\n",
      " [' ' ' ' ' ' ' ']]\n",
      "Move # : 999; taking action: l\n",
      "[['P' ' ' '+' ' ']\n",
      " [' ' 'W' ' ' ' ']\n",
      " [' ' ' ' '-' ' ']\n",
      " [' ' ' ' ' ' ' ']]\n",
      "Move # : 999; taking action: l\n",
      "[['P' ' ' '+' ' ']\n",
      " [' ' 'W' ' ' ' ']\n",
      " [' ' ' ' '-' ' ']\n",
      " [' ' ' ' ' ' ' ']]\n",
      "Move # : 999; taking action: l\n",
      "[['P' ' ' '+' ' ']\n",
      " [' ' 'W' ' ' ' ']\n",
      " [' ' ' ' '-' ' ']\n",
      " [' ' ' ' ' ' ' ']]\n",
      "Move # : 999; taking action: l\n",
      "[['P' ' ' '+' ' ']\n",
      " [' ' 'W' ' ' ' ']\n",
      " [' ' ' ' '-' ' ']\n",
      " [' ' ' ' ' ' ' ']]\n",
      "Move # : 999; taking action: l\n",
      "[['P' ' ' '+' ' ']\n",
      " [' ' 'W' ' ' ' ']\n",
      " [' ' ' ' '-' ' ']\n",
      " [' ' ' ' ' ' ' ']]\n",
      "Move # : 999; taking action: l\n",
      "[['P' ' ' '+' ' ']\n",
      " [' ' 'W' ' ' ' ']\n",
      " [' ' ' ' '-' ' ']\n",
      " [' ' ' ' ' ' ' ']]\n",
      "Move # : 999; taking action: l\n",
      "[['P' ' ' '+' ' ']\n",
      " [' ' 'W' ' ' ' ']\n",
      " [' ' ' ' '-' ' ']\n",
      " [' ' ' ' ' ' ' ']]\n",
      "Move # : 999; taking action: l\n",
      "[['P' ' ' '+' ' ']\n",
      " [' ' 'W' ' ' ' ']\n",
      " [' ' ' ' '-' ' ']\n",
      " [' ' ' ' ' ' ' ']]\n",
      "Move # : 999; taking action: l\n",
      "[['P' ' ' '+' ' ']\n",
      " [' ' 'W' ' ' ' ']\n",
      " [' ' ' ' '-' ' ']\n",
      " [' ' ' ' ' ' ' ']]\n",
      "Move # : 999; taking action: l\n",
      "[['P' ' ' '+' ' ']\n",
      " [' ' 'W' ' ' ' ']\n",
      " [' ' ' ' '-' ' ']\n",
      " [' ' ' ' ' ' ' ']]\n",
      "Move # : 999; taking action: l\n",
      "[['P' ' ' '+' ' ']\n",
      " [' ' 'W' ' ' ' ']\n",
      " [' ' ' ' '-' ' ']\n",
      " [' ' ' ' ' ' ' ']]\n",
      "Move # : 999; taking action: l\n",
      "[['P' ' ' '+' ' ']\n",
      " [' ' 'W' ' ' ' ']\n",
      " [' ' ' ' '-' ' ']\n",
      " [' ' ' ' ' ' ' ']]\n",
      "Move # : 999; taking action: d\n",
      "[[' ' ' ' '+' ' ']\n",
      " ['P' 'W' ' ' ' ']\n",
      " [' ' ' ' '-' ' ']\n",
      " [' ' ' ' ' ' ' ']]\n",
      "Move # : 999; taking action: u\n",
      "[['P' ' ' '+' ' ']\n",
      " [' ' 'W' ' ' ' ']\n",
      " [' ' ' ' '-' ' ']\n",
      " [' ' ' ' ' ' ' ']]\n",
      "Move # : 999; taking action: l\n",
      "[['P' ' ' '+' ' ']\n",
      " [' ' 'W' ' ' ' ']\n",
      " [' ' ' ' '-' ' ']\n",
      " [' ' ' ' ' ' ' ']]\n",
      "Move # : 999; taking action: l\n",
      "[['P' ' ' '+' ' ']\n",
      " [' ' 'W' ' ' ' ']\n",
      " [' ' ' ' '-' ' ']\n",
      " [' ' ' ' ' ' ' ']]\n",
      "Move # : 999; taking action: l\n",
      "[['P' ' ' '+' ' ']\n",
      " [' ' 'W' ' ' ' ']\n",
      " [' ' ' ' '-' ' ']\n",
      " [' ' ' ' ' ' ' ']]\n",
      "Move # : 999; taking action: l\n",
      "[['P' ' ' '+' ' ']\n",
      " [' ' 'W' ' ' ' ']\n",
      " [' ' ' ' '-' ' ']\n",
      " [' ' ' ' ' ' ' ']]\n",
      "Move # : 999; taking action: l\n",
      "[['P' ' ' '+' ' ']\n",
      " [' ' 'W' ' ' ' ']\n",
      " [' ' ' ' '-' ' ']\n",
      " [' ' ' ' ' ' ' ']]\n",
      "Game lost, too many moves\n"
     ]
    },
    {
     "data": {
      "text/plain": [
       "False"
      ]
     },
     "execution_count": 55,
     "metadata": {},
     "output_type": "execute_result"
    }
   ],
   "source": [
    "testModel(model, 'random')"
   ]
  },
  {
   "cell_type": "code",
   "execution_count": null,
   "metadata": {},
   "outputs": [],
   "source": []
  }
 ],
 "metadata": {
  "kernelspec": {
   "display_name": "Python 3",
   "language": "python",
   "name": "python3"
  },
  "language_info": {
   "codemirror_mode": {
    "name": "ipython",
    "version": 3
   },
   "file_extension": ".py",
   "mimetype": "text/x-python",
   "name": "python",
   "nbconvert_exporter": "python",
   "pygments_lexer": "ipython3",
   "version": "3.7.1"
  }
 },
 "nbformat": 4,
 "nbformat_minor": 2
}
