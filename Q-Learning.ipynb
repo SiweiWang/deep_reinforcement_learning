{
 "cells": [
  {
   "cell_type": "markdown",
   "metadata": {},
   "source": [
    "# Q-Learning, Deep Q-learning (DQN) and double Deep Q-learning (DDQN)"
   ]
  },
  {
   "cell_type": "markdown",
   "metadata": {},
   "source": [
    "## This notebook shows how to apply difference Q-Learning to the grid word example"
   ]
  },
  {
   "cell_type": "code",
   "execution_count": 1,
   "metadata": {},
   "outputs": [],
   "source": [
    "# -*- coding: utf-8 -*-\n",
    "import numpy as np\n",
    "import torch\n",
    "from torch.autograd import Variable\n",
    "from Gridworld import *\n",
    "from IPython.display import clear_output\n",
    "import random\n",
    "from matplotlib import pylab as plt"
   ]
  },
  {
   "cell_type": "markdown",
   "metadata": {},
   "source": [
    "#### setup the gridworld game. + is the goal, - is the pit, W is the wall and P is the playe. Use game.display() to show the environment\n",
    "#### Note the starting reward is -1"
   ]
  },
  {
   "cell_type": "code",
   "execution_count": 2,
   "metadata": {},
   "outputs": [
    {
     "name": "stdout",
     "output_type": "stream",
     "text": [
      "[['+' '-' ' ' 'P']\n",
      " [' ' 'W' ' ' ' ']\n",
      " [' ' ' ' ' ' ' ']\n",
      " [' ' ' ' ' ' ' ']]\n",
      "-1\n"
     ]
    }
   ],
   "source": [
    "from Gridworld import *\n",
    "\n",
    "game = Gridworld (size=4, mode=\"static\")\n",
    "\n",
    "print(game.display())\n",
    "print(game.reward())"
   ]
  },
  {
   "cell_type": "markdown",
   "metadata": {},
   "source": [
    "We can move using 'd' 'u' 'l' and 'r' to move donw, up , left and right"
   ]
  },
  {
   "cell_type": "code",
   "execution_count": 3,
   "metadata": {},
   "outputs": [
    {
     "name": "stdout",
     "output_type": "stream",
     "text": [
      "[['+' '-' ' ' ' ']\n",
      " [' ' 'W' ' ' ' ']\n",
      " [' ' 'P' ' ' ' ']\n",
      " [' ' ' ' ' ' ' ']]\n",
      "-1\n"
     ]
    }
   ],
   "source": [
    "game.makeMove('d')\n",
    "game.makeMove('d')\n",
    "game.makeMove('l')\n",
    "game.makeMove('l')\n",
    "\n",
    "\n",
    "print(game.display())\n",
    "print(game.reward())\n"
   ]
  },
  {
   "cell_type": "markdown",
   "metadata": {},
   "source": [
    "A sample moves to resolve the grid world"
   ]
  },
  {
   "cell_type": "code",
   "execution_count": 4,
   "metadata": {},
   "outputs": [
    {
     "name": "stdout",
     "output_type": "stream",
     "text": [
      "[['+' '-' ' ' ' ']\n",
      " ['P' 'W' ' ' ' ']\n",
      " [' ' ' ' ' ' ' ']\n",
      " [' ' ' ' ' ' ' ']]\n",
      "-1\n"
     ]
    }
   ],
   "source": [
    "game.makeMove('l')\n",
    "\n",
    "game.makeMove('l')\n",
    "game.makeMove('u')\n",
    "\n",
    "print(game.display())\n",
    "print(game.reward())"
   ]
  },
  {
   "cell_type": "code",
   "execution_count": 5,
   "metadata": {},
   "outputs": [
    {
     "data": {
      "text/plain": [
       "array([[[0, 0, 0, 0],\n",
       "        [1, 0, 0, 0],\n",
       "        [0, 0, 0, 0],\n",
       "        [0, 0, 0, 0]],\n",
       "\n",
       "       [[1, 0, 0, 0],\n",
       "        [0, 0, 0, 0],\n",
       "        [0, 0, 0, 0],\n",
       "        [0, 0, 0, 0]],\n",
       "\n",
       "       [[0, 1, 0, 0],\n",
       "        [0, 0, 0, 0],\n",
       "        [0, 0, 0, 0],\n",
       "        [0, 0, 0, 0]],\n",
       "\n",
       "       [[0, 0, 0, 0],\n",
       "        [0, 1, 0, 0],\n",
       "        [0, 0, 0, 0],\n",
       "        [0, 0, 0, 0]]], dtype=uint8)"
      ]
     },
     "execution_count": 5,
     "metadata": {},
     "output_type": "execute_result"
    }
   ],
   "source": [
    "game.board.render_np()"
   ]
  },
  {
   "cell_type": "code",
   "execution_count": 56,
   "metadata": {},
   "outputs": [],
   "source": [
    "def running_mean(x, N=500):\n",
    "    cumsum = np.cumsum(np.insert(x, 0, 0)) \n",
    "    return (cumsum[N:] - cumsum[:-N]) / float(N)"
   ]
  },
  {
   "cell_type": "code",
   "execution_count": 6,
   "metadata": {},
   "outputs": [],
   "source": [
    "def testModel(model, mode='static', display= True):\n",
    "    epsilon = 0.05\n",
    "    max_moves = 50\n",
    "    win = False\n",
    "    action_num = 0\n",
    "    test_game = Gridworld(mode=mode)\n",
    "    state_ = test_game.board.render_np().reshape(1, 64) + np.random.rand(1, 64)/10.0\n",
    "    state = Variable(torch.from_numpy(state_).float())\n",
    "    if display:\n",
    "        print(\"Initial State:\")\n",
    "        print(test_game.display())\n",
    "    finished = False\n",
    "    while not finished:\n",
    "        qval = model(state)\n",
    "        qval_ = qval.data.numpy()\n",
    "        if (random.random() < epsilon):\n",
    "            action_ = np.random.randint(0,4)\n",
    "        else:\n",
    "            action_ = np.argmax(qval_)\n",
    "        action = action_set[action_]\n",
    "        if display:\n",
    "            print(\"Move # : %s; taking action: %s\" % (action_num, action))\n",
    "        test_game.makeMove(action)\n",
    "        state_ = test_game.board.render_np().reshape(1, 64) + np.random.rand(1, 64)/10.0\n",
    "        state = Variable(torch.from_numpy(state_).float())\n",
    "        if display:\n",
    "            print(test_game.display())\n",
    "        reward = test_game.reward()\n",
    "        if reward == 10:\n",
    "            finished = True\n",
    "            win = True\n",
    "            if display:\n",
    "                print(\"You won! Reward: {}\".format(reward,))\n",
    "        elif reward == -10:\n",
    "            finished = True\n",
    "            if display:\n",
    "                print(\"Game lost; stepped into the pit. Penalty: {}\".format(reward,))\n",
    "        action_num += 1\n",
    "        if (action_num > max_moves):\n",
    "            if display:\n",
    "                print(\"Game lost, too many moves\")\n",
    "            break\n",
    "    return win\n"
   ]
  },
  {
   "cell_type": "code",
   "execution_count": 7,
   "metadata": {},
   "outputs": [],
   "source": [
    "def test_win_perc(model, max_games=1000):\n",
    "    wins = 0\n",
    "    for i in range(max_games):\n",
    "        win = testModel(model, 'random', display=False)\n",
    "        if win:\n",
    "            win +=1\n",
    "    win_perc = float(wins) / float(max_games)\n",
    "    print(\"Games player: {0}, # of wins: ${1}\".format(max_games, wins))\n",
    "    print(\"Win precentage: {}\".format(win_perc))"
   ]
  },
  {
   "cell_type": "markdown",
   "metadata": {},
   "source": [
    "## Deep Q-Learning"
   ]
  },
  {
   "cell_type": "code",
   "execution_count": 16,
   "metadata": {},
   "outputs": [],
   "source": [
    "# Hyperparameters\n",
    "learning_rate = 1e-4\n",
    "gamma = 0.9 \n",
    "epsilon = 1.0"
   ]
  },
  {
   "cell_type": "code",
   "execution_count": 17,
   "metadata": {},
   "outputs": [
    {
     "name": "stderr",
     "output_type": "stream",
     "text": [
      "/Users/siweiwang/anaconda3/lib/python3.6/site-packages/torch/nn/_reduction.py:49: UserWarning: size_average and reduce args will be deprecated, please use reduction='sum' instead.\n",
      "  warnings.warn(warning.format(ret))\n"
     ]
    }
   ],
   "source": [
    "loss_fn = torch.nn.MSELoss(size_average =False)\n",
    "\n",
    "# code action_set using number\n",
    "action_set = {\n",
    "    0: \"u\",\n",
    "    1: \"d\",\n",
    "    2: \"l\",\n",
    "    3: \"r\",\n",
    "}"
   ]
  },
  {
   "cell_type": "code",
   "execution_count": 18,
   "metadata": {},
   "outputs": [],
   "source": [
    "l1 = 64\n",
    "l2 = 164\n",
    "l3 = 150\n",
    "l4 = 4\n",
    "\n",
    "model = torch.nn.Sequential(\n",
    "    torch.nn.Linear(l1, l2),\n",
    "    torch.nn.ReLU(),\n",
    "    torch.nn.Linear(l2, l3),\n",
    "    torch.nn.ReLU(),\n",
    "    torch.nn.Linear(l3, l4)\n",
    ")\n",
    "\n",
    "optimizer = torch.optim.Adam(model.parameters(), lr=learning_rate)\n",
    "\n",
    "\n",
    "# code action_set using number\n",
    "action_set = {\n",
    "    0: \"u\",\n",
    "    1: \"d\",\n",
    "    2: \"l\",\n",
    "    3: \"r\",\n",
    "}"
   ]
  },
  {
   "cell_type": "code",
   "execution_count": 9,
   "metadata": {},
   "outputs": [
    {
     "name": "stdout",
     "output_type": "stream",
     "text": [
      "999 0.001472120638936758\n"
     ]
    }
   ],
   "source": [
    "epochs = 1000\n",
    "losses = []\n",
    "for i in range(epochs):\n",
    "    game = Gridworld(size=4, mode =\"static\")\n",
    "    state_ = game.board.render_np().reshape(1, 64) + np.random.rand(1,64)/10.0\n",
    "    state = Variable(torch.from_numpy(state_).float())\n",
    "    finished = False\n",
    "    while not finished:\n",
    "        qval = model(state)\n",
    "        qval_ = qval.data.numpy()\n",
    "        if(random.random() < epsilon):\n",
    "            action_ = np.random.randint(0,4)\n",
    "        else:\n",
    "            action_ = (np.argmax(qval_))\n",
    "        action = action_set[action_]\n",
    "        game.makeMove(action)\n",
    "        new_state_ = game.board.render_np().reshape(1, 64) + np.random.rand(1, 64)/10.0\n",
    "        new_state = Variable(torch.from_numpy(new_state_).float())\n",
    "        reward = game.reward()\n",
    "        newQ= model(new_state.reshape(1, 64)).data.numpy()\n",
    "        maxQ= np.max(newQ)\n",
    "        y = np.zeros((1,4))\n",
    "        y[:] = qval_[:]\n",
    "        if reward == -1:\n",
    "            update = (reward + (gamma * maxQ))\n",
    "        else:\n",
    "            update = reward\n",
    "        y[0][action_] = update \n",
    "        y = Variable(torch.from_numpy(y).float())\n",
    "        loss = loss_fn(qval, y)\n",
    "        print(i, loss.item())\n",
    "        optimizer.zero_grad()\n",
    "        loss.backward()\n",
    "        losses.append(loss.data)\n",
    "        optimizer.step()\n",
    "        state = new_state\n",
    "        if reward != -1:\n",
    "            finished = True\n",
    "        clear_output(wait=True)\n",
    "    if epsilon > 0.1:\n",
    "        epsilon -= (1/epochs)"
   ]
  },
  {
   "cell_type": "code",
   "execution_count": 22,
   "metadata": {},
   "outputs": [
    {
     "data": {
      "image/png": "[encoded data removed]",
      "text/plain": [
       "<matplotlib.figure.Figure at 0x10aea7e10>"
      ]
     },
     "metadata": {},
     "output_type": "display_data"
    }
   ],
   "source": [
    "plt.figure(figsize=(15,10))\n",
    "plt.ylabel(\"Loss\")\n",
    "plt.xlabel(\"Training Steps\")\n",
    "plt.plot(losses)\n",
    "plt.savefig(\"dqn_1_loss_plot.pdf\", format=\"pdf\")\n"
   ]
  },
  {
   "cell_type": "code",
   "execution_count": 11,
   "metadata": {},
   "outputs": [
    {
     "name": "stdout",
     "output_type": "stream",
     "text": [
      "Initial State:\n",
      "[['+' '-' ' ' 'P']\n",
      " [' ' 'W' ' ' ' ']\n",
      " [' ' ' ' ' ' ' ']\n",
      " [' ' ' ' ' ' ' ']]\n",
      "Move # : 0; taking action: d\n",
      "[['+' '-' ' ' ' ']\n",
      " [' ' 'W' ' ' 'P']\n",
      " [' ' ' ' ' ' ' ']\n",
      " [' ' ' ' ' ' ' ']]\n",
      "Move # : 1; taking action: d\n",
      "[['+' '-' ' ' ' ']\n",
      " [' ' 'W' ' ' ' ']\n",
      " [' ' ' ' ' ' 'P']\n",
      " [' ' ' ' ' ' ' ']]\n",
      "Move # : 2; taking action: l\n",
      "[['+' '-' ' ' ' ']\n",
      " [' ' 'W' ' ' ' ']\n",
      " [' ' ' ' 'P' ' ']\n",
      " [' ' ' ' ' ' ' ']]\n",
      "Move # : 3; taking action: l\n",
      "[['+' '-' ' ' ' ']\n",
      " [' ' 'W' ' ' ' ']\n",
      " [' ' 'P' ' ' ' ']\n",
      " [' ' ' ' ' ' ' ']]\n",
      "Move # : 4; taking action: l\n",
      "[['+' '-' ' ' ' ']\n",
      " [' ' 'W' ' ' ' ']\n",
      " ['P' ' ' ' ' ' ']\n",
      " [' ' ' ' ' ' ' ']]\n",
      "Move # : 5; taking action: d\n",
      "[['+' '-' ' ' ' ']\n",
      " [' ' 'W' ' ' ' ']\n",
      " [' ' ' ' ' ' ' ']\n",
      " ['P' ' ' ' ' ' ']]\n",
      "Move # : 6; taking action: u\n",
      "[['+' '-' ' ' ' ']\n",
      " [' ' 'W' ' ' ' ']\n",
      " ['P' ' ' ' ' ' ']\n",
      " [' ' ' ' ' ' ' ']]\n",
      "Move # : 7; taking action: u\n",
      "[['+' '-' ' ' ' ']\n",
      " ['P' 'W' ' ' ' ']\n",
      " [' ' ' ' ' ' ' ']\n",
      " [' ' ' ' ' ' ' ']]\n",
      "Move # : 8; taking action: u\n",
      "[['+' '-' ' ' ' ']\n",
      " [' ' 'W' ' ' ' ']\n",
      " [' ' ' ' ' ' ' ']\n",
      " [' ' ' ' ' ' ' ']]\n",
      "You won! Reward: 10\n"
     ]
    },
    {
     "data": {
      "text/plain": [
       "True"
      ]
     },
     "execution_count": 11,
     "metadata": {},
     "output_type": "execute_result"
    }
   ],
   "source": [
    "testModel(model, 'static')"
   ]
  },
  {
   "cell_type": "markdown",
   "metadata": {},
   "source": [
    "### Test Model Accuracy for static world"
   ]
  },
  {
   "cell_type": "code",
   "execution_count": 12,
   "metadata": {},
   "outputs": [
    {
     "name": "stdout",
     "output_type": "stream",
     "text": [
      "Games played: 1000, # of wins: 1000\n",
      "Win percentage: 1.0\n"
     ]
    }
   ],
   "source": [
    "max_games = 1000\n",
    "wins = 0\n",
    "for i in range(max_games):\n",
    "    win = testModel(model, 'static', display=False)\n",
    "    if win:\n",
    "        wins += 1\n",
    "win_perc = float(wins) / float(max_games)\n",
    "print(\"Games played: {0}, # of wins: {1}\".format(max_games,wins))\n",
    "print(\"Win percentage: {}\".format(win_perc))"
   ]
  },
  {
   "cell_type": "markdown",
   "metadata": {},
   "source": [
    "### Test Model Accuracy for random world"
   ]
  },
  {
   "cell_type": "code",
   "execution_count": 15,
   "metadata": {},
   "outputs": [
    {
     "name": "stdout",
     "output_type": "stream",
     "text": [
      "Games played: 1000, # of wins: 226\n",
      "Win percentage: 0.226\n"
     ]
    }
   ],
   "source": [
    "max_games = 1000\n",
    "wins = 0\n",
    "for i in range(max_games):\n",
    "    win = testModel(model, 'random', display=False)\n",
    "    if win:\n",
    "        wins += 1\n",
    "win_perc = float(wins) / float(max_games)\n",
    "print(\"Games played: {0}, # of wins: {1}\".format(max_games,wins))\n",
    "print(\"Win percentage: {}\".format(win_perc))"
   ]
  },
  {
   "cell_type": "markdown",
   "metadata": {},
   "source": [
    "### Experience Replay"
   ]
  },
  {
   "cell_type": "code",
   "execution_count": 50,
   "metadata": {},
   "outputs": [
    {
     "name": "stderr",
     "output_type": "stream",
     "text": [
      "/Users/siweiwang/anaconda3/lib/python3.6/site-packages/torch/nn/_reduction.py:49: UserWarning: size_average and reduce args will be deprecated, please use reduction='sum' instead.\n",
      "  warnings.warn(warning.format(ret))\n"
     ]
    }
   ],
   "source": [
    "l1 = 64\n",
    "l2 = 200\n",
    "l3 = 150\n",
    "l4 = 100\n",
    "l5 = 4\n",
    "\n",
    "model2 = torch.nn.Sequential(\n",
    "    torch.nn.Linear(l1, l2),\n",
    "    torch.nn.ReLU(),\n",
    "    torch.nn.Linear(l2, l3),\n",
    "    torch.nn.ReLU(),\n",
    "    torch.nn.Linear(l3,l4),\n",
    "    torch.nn.ReLU(),\n",
    "    torch.nn.Linear(l4,l5)\n",
    ")\n",
    "\n",
    "loss_fn2 = torch.nn.MSELoss(size_average=False)\n",
    "\n",
    "learning_rate2 = 1e-4\n",
    "optimizer2 = torch.optim.Adam(model2.parameters(), lr=learning_rate2)\n",
    "\n",
    "gamma = 0.9 #since it may take several moves to goal, making gamma high\n",
    "epsilon = 1.0\n",
    "\n",
    "action_set = {\n",
    "    0: 'u',\n",
    "    1: 'd',\n",
    "    2: 'l',\n",
    "    3: 'r',\n",
    "}\n"
   ]
  },
  {
   "cell_type": "code",
   "execution_count": 51,
   "metadata": {},
   "outputs": [
    {
     "name": "stdout",
     "output_type": "stream",
     "text": [
      "1499 1127.546630859375\n"
     ]
    }
   ],
   "source": [
    "epochs = 1500\n",
    "losses =[]\n",
    "batchSize = 40\n",
    "buffer = 80\n",
    "replay = []\n",
    "max_moves =75\n",
    "\n",
    "for i in range(epochs):\n",
    "    game = Gridworld(size=4, mode =\"random\")\n",
    "    state_ = game.board.render_np().reshape(1, 64) + np.random.rand(1,64)/10.0\n",
    "    state = Variable(torch.from_numpy(state_).float())\n",
    "    finished = False\n",
    "    action_count = 0\n",
    "    while not finished:\n",
    "        action_count +=1\n",
    "        qval = model2(state)\n",
    "        qval_ = qval.data.numpy()\n",
    "        if(random.random() < epsilon):\n",
    "            action_ = np.random.randint(0,4)\n",
    "        else:\n",
    "            action_ = (np.argmax(qval_))\n",
    "\n",
    "        action = action_set[action_]\n",
    "        game.makeMove(action)\n",
    "        new_state_ = game.board.render_np().reshape(1, 64) + np.random.rand(1, 64)/10.0\n",
    "        new_state = Variable(torch.from_numpy(new_state_).float())\n",
    "        reward = game.reward()\n",
    "        \n",
    "        if (len(replay) < buffer):\n",
    "            replay.append((state, action_, reward, new_state))\n",
    "        else:\n",
    "            replay.pop(0)\n",
    "            replay.append((state, action_, reward, new_state))\n",
    "            minibatch = random.sample(replay, batchSize)\n",
    "    \n",
    "            x_train = Variable(torch.empty(batchSize, 4, dtype=torch.float))\n",
    "            y_train = Variable(torch.empty(batchSize, 4, dtype=torch.float))\n",
    "            h = 0\n",
    "            for memory in minibatch:\n",
    "                old_state, action_m, reward_m, new_state_m = memory\n",
    "                old_qval = model2(old_state)\n",
    "                newQ = model2(new_state_m).data.numpy()\n",
    "                maxQ = np.max(newQ)\n",
    "                y = torch.zeros((1,4))\n",
    "                y[:] = old_qval[:]\n",
    "                if reward == -1:\n",
    "                    update = (reward_m + (gamma * maxQ))\n",
    "                else:\n",
    "                    update = reward_m\n",
    "                y[0][action_m] = update\n",
    "                x_train[h] = old_qval\n",
    "                y_train[h] = Variable(y)\n",
    "                h += 1\n",
    "                \n",
    "            loss = loss_fn2(x_train, y_train)\n",
    "            print(i, loss.item())\n",
    "            optimizer2.zero_grad()\n",
    "            loss.backward()\n",
    "            losses.append(loss.data)\n",
    "            optimizer2.step()\n",
    "\n",
    "            state = new_state\n",
    "        if reward != -1 or action_count > max_moves:\n",
    "            finished = True\n",
    "            action_count = 0\n",
    "        clear_output(wait=True)\n",
    "    if epsilon > 0.1:\n",
    "        epsilon -= (1/epochs)"
   ]
  },
  {
   "cell_type": "code",
   "execution_count": 57,
   "metadata": {},
   "outputs": [
    {
     "data": {
      "image/png": "[encoded data removed]",
      "text/plain": [
       "<matplotlib.figure.Figure at 0x10af4cc18>"
      ]
     },
     "metadata": {},
     "output_type": "display_data"
    }
   ],
   "source": [
    "plt.figure(figsize=(15,10))\n",
    "plt.ylabel(\"Loss\")\n",
    "plt.xlabel(\"Training Steps\")\n",
    "plt.plot(running_mean(losses))\n",
    "plt.savefig(\"dqn_2_loss_plot.pdf\", format=\"pdf\")\n"
   ]
  },
  {
   "cell_type": "code",
   "execution_count": 54,
   "metadata": {},
   "outputs": [
    {
     "name": "stdout",
     "output_type": "stream",
     "text": [
      "Initial State:\n",
      "[[' ' ' ' ' ' 'W']\n",
      " [' ' ' ' ' ' '-']\n",
      " [' ' ' ' ' ' '+']\n",
      " ['P' ' ' ' ' ' ']]\n",
      "Move # : 0; taking action: r\n",
      "[[' ' ' ' ' ' 'W']\n",
      " [' ' ' ' ' ' '-']\n",
      " [' ' ' ' ' ' '+']\n",
      " [' ' 'P' ' ' ' ']]\n",
      "Move # : 1; taking action: r\n",
      "[[' ' ' ' ' ' 'W']\n",
      " [' ' ' ' ' ' '-']\n",
      " [' ' ' ' ' ' '+']\n",
      " [' ' ' ' 'P' ' ']]\n",
      "Move # : 2; taking action: r\n",
      "[[' ' ' ' ' ' 'W']\n",
      " [' ' ' ' ' ' '-']\n",
      " [' ' ' ' ' ' '+']\n",
      " [' ' ' ' ' ' 'P']]\n",
      "Move # : 3; taking action: r\n",
      "[[' ' ' ' ' ' 'W']\n",
      " [' ' ' ' ' ' '-']\n",
      " [' ' ' ' ' ' '+']\n",
      " [' ' ' ' ' ' 'P']]\n",
      "Move # : 4; taking action: r\n",
      "[[' ' ' ' ' ' 'W']\n",
      " [' ' ' ' ' ' '-']\n",
      " [' ' ' ' ' ' '+']\n",
      " [' ' ' ' ' ' 'P']]\n",
      "Move # : 5; taking action: u\n",
      "[[' ' ' ' ' ' 'W']\n",
      " [' ' ' ' ' ' '-']\n",
      " [' ' ' ' ' ' '+']\n",
      " [' ' ' ' ' ' ' ']]\n",
      "You won! Reward: 10\n"
     ]
    },
    {
     "data": {
      "text/plain": [
       "True"
      ]
     },
     "execution_count": 54,
     "metadata": {},
     "output_type": "execute_result"
    }
   ],
   "source": [
    "testModel(model2, 'random')"
   ]
  },
  {
   "cell_type": "code",
   "execution_count": null,
   "metadata": {},
   "outputs": [],
   "source": []
  },
  {
   "cell_type": "code",
   "execution_count": 55,
   "metadata": {},
   "outputs": [
    {
     "name": "stdout",
     "output_type": "stream",
     "text": [
      "Games played: 1000, # of wins: 572\n",
      "Win percentage: 0.572\n"
     ]
    }
   ],
   "source": [
    "max_games = 1000\n",
    "wins = 0\n",
    "for i in range(max_games):\n",
    "    win = testModel(model2, 'random', display=False)\n",
    "    if win:\n",
    "        wins += 1\n",
    "win_perc = float(wins) / float(max_games)\n",
    "print(\"Games played: {0}, # of wins: {1}\".format(max_games,wins))\n",
    "print(\"Win percentage: {}\".format(win_perc))"
   ]
  },
  {
   "cell_type": "markdown",
   "metadata": {},
   "source": [
    "## Experience replay and target network"
   ]
  },
  {
   "cell_type": "code",
   "execution_count": 74,
   "metadata": {},
   "outputs": [
    {
     "name": "stderr",
     "output_type": "stream",
     "text": [
      "/Users/siweiwang/anaconda3/lib/python3.6/site-packages/torch/nn/_reduction.py:49: UserWarning: size_average and reduce args will be deprecated, please use reduction='sum' instead.\n",
      "  warnings.warn(warning.format(ret))\n"
     ]
    }
   ],
   "source": [
    "import copy\n",
    "\n",
    "l1 = 64\n",
    "l2 = 164\n",
    "l3 = 150\n",
    "l4 = 100\n",
    "l5 = 4\n",
    "\n",
    "model3 = torch.nn.Sequential(\n",
    "    torch.nn.Linear(l1, l2),\n",
    "    torch.nn.ReLU(),\n",
    "    torch.nn.Linear(l2, l3),\n",
    "    torch.nn.ReLU(),\n",
    "    torch.nn.Linear(l3,l4),\n",
    "    torch.nn.ReLU(),\n",
    "    torch.nn.Linear(l4,l5)\n",
    ")\n",
    "\n",
    "model3_target = copy.deepcopy(model3)\n",
    "\n",
    "loss_fn3 = torch.nn.MSELoss(size_average=False)\n",
    "\n",
    "learning_rate3 = 1e-4\n",
    "optimizer3 = torch.optim.Adam(model3.parameters(), lr=learning_rate3)\n",
    "\n",
    "\n",
    "gamma = 0.9\n",
    "epsilon = 1.0\n",
    "\n",
    "action_set = {\n",
    "    0: 'u',\n",
    "    1: 'd',\n",
    "    2: 'l',\n",
    "    3: 'r',\n",
    "}"
   ]
  },
  {
   "cell_type": "code",
   "execution_count": 75,
   "metadata": {},
   "outputs": [
    {
     "name": "stdout",
     "output_type": "stream",
     "text": [
      "cpu\n"
     ]
    },
    {
     "data": {
      "text/plain": [
       "Sequential(\n",
       "  (0): Linear(in_features=64, out_features=164, bias=True)\n",
       "  (1): ReLU()\n",
       "  (2): Linear(in_features=164, out_features=150, bias=True)\n",
       "  (3): ReLU()\n",
       "  (4): Linear(in_features=150, out_features=100, bias=True)\n",
       "  (5): ReLU()\n",
       "  (6): Linear(in_features=100, out_features=4, bias=True)\n",
       ")"
      ]
     },
     "execution_count": 75,
     "metadata": {},
     "output_type": "execute_result"
    }
   ],
   "source": [
    "device = torch.device(\"cuda:0\" if torch.cuda.is_available() else \"cpu\")\n",
    "print(device)\n",
    "model3.to(device)\n",
    "model3_target.to(device)"
   ]
  },
  {
   "cell_type": "code",
   "execution_count": 76,
   "metadata": {},
   "outputs": [
    {
     "name": "stdout",
     "output_type": "stream",
     "text": [
      "1499 4975.29443359375\n"
     ]
    }
   ],
   "source": [
    "epochs = 1500\n",
    "losses = []\n",
    "batchSize = 200\n",
    "buffer = 2000\n",
    "replay = []\n",
    "max_moves = 75\n",
    "target_update = 500\n",
    "target_step = 0\n",
    "\n",
    "for i in range(epochs):\n",
    "    game = Gridworld(size=4, mode =\"random\")\n",
    "    state_ = game.board.render_np().reshape(1, 64) + np.random.rand(1,64)/10.0\n",
    "    state = Variable(torch.from_numpy(state_).float())\n",
    "    finished = False\n",
    "    action_count = 0\n",
    "\n",
    "    while not finished:\n",
    "        target_step += 1\n",
    "        if target_step > target_update:\n",
    "            model3_target.load_state_dict(model3.state_dict())\n",
    "        action_count += 1\n",
    "        qval = model3(state)\n",
    "        qval_ = qval.data.numpy()\n",
    "\n",
    "        if(random.random() < epsilon):\n",
    "            action_ = np.random.randint(0,4)\n",
    "        else:\n",
    "            action_ = (np.argmax(qval_))\n",
    "\n",
    "        action = action_set[action_]\n",
    "        game.makeMove(action)\n",
    "        new_state_ = game.board.render_np().reshape(1, 64) + np.random.rand(1, 64)/10.0\n",
    "        new_state = Variable(torch.from_numpy(new_state_).float())\n",
    "        reward = game.reward()\n",
    "        \n",
    "        if action_count > max_moves:\n",
    "            reward = -5\n",
    "        \n",
    "        if (len(replay) < buffer):\n",
    "            replay.append((state, action_, reward, new_state))\n",
    "        else:\n",
    "            replay.pop(0)\n",
    "            replay.append((state, action_, reward, new_state))\n",
    "            minibatch = random.sample(replay, batchSize)\n",
    "    \n",
    "            x_train = Variable(torch.empty(batchSize, 4, dtype=torch.float))\n",
    "            y_train = Variable(torch.empty(batchSize, 4, dtype=torch.float))\n",
    "            h = 0\n",
    "            for memory in minibatch:\n",
    "                old_state, action_m, reward_m, new_state_m = memory\n",
    "                old_qval = model3(old_state)\n",
    "                newQ = model3_target(new_state_m)\n",
    "                maxQ = torch.max(newQ)\n",
    "                y = torch.zeros((1,4))\n",
    "                y[:] = old_qval[:]\n",
    "                if reward == -1:\n",
    "                    update = (reward_m + (gamma * maxQ))\n",
    "                else:\n",
    "                    update = reward_m\n",
    "                y[0][action_m] = update\n",
    "                x_train[h] = old_qval\n",
    "                y_train[h] = Variable(y)\n",
    "                h += 1\n",
    "                \n",
    "            loss = loss_fn3(x_train, y_train)\n",
    "            print(i, loss.item())\n",
    "            optimizer3.zero_grad()\n",
    "            loss.backward()\n",
    "            losses.append(loss.data)\n",
    "            optimizer3.step()\n",
    "            \n",
    "            state = new_state\n",
    "            \n",
    "        if reward != -1:\n",
    "            finished = True\n",
    "            action_count = 0\n",
    "        clear_output(wait=True)\n",
    "    if epsilon > 0.1:\n",
    "        epsilon -= (1/epochs)"
   ]
  },
  {
   "cell_type": "code",
   "execution_count": 85,
   "metadata": {},
   "outputs": [
    {
     "name": "stdout",
     "output_type": "stream",
     "text": [
      "Initial State:\n",
      "[[' ' ' ' ' ' '+']\n",
      " [' ' 'P' ' ' ' ']\n",
      " [' ' 'W' ' ' ' ']\n",
      " [' ' ' ' '-' ' ']]\n",
      "Move # : 0; taking action: r\n",
      "[[' ' ' ' ' ' '+']\n",
      " [' ' ' ' 'P' ' ']\n",
      " [' ' 'W' ' ' ' ']\n",
      " [' ' ' ' '-' ' ']]\n",
      "Move # : 1; taking action: r\n",
      "[[' ' ' ' ' ' '+']\n",
      " [' ' ' ' ' ' 'P']\n",
      " [' ' 'W' ' ' ' ']\n",
      " [' ' ' ' '-' ' ']]\n",
      "Move # : 2; taking action: u\n",
      "[[' ' ' ' ' ' '+']\n",
      " [' ' ' ' ' ' ' ']\n",
      " [' ' 'W' ' ' ' ']\n",
      " [' ' ' ' '-' ' ']]\n",
      "You won! Reward: 10\n"
     ]
    },
    {
     "data": {
      "text/plain": [
       "True"
      ]
     },
     "execution_count": 85,
     "metadata": {},
     "output_type": "execute_result"
    }
   ],
   "source": [
    "testModel(model3, 'random')"
   ]
  },
  {
   "cell_type": "code",
   "execution_count": 86,
   "metadata": {},
   "outputs": [
    {
     "name": "stdout",
     "output_type": "stream",
     "text": [
      "Games played: 10000, # of wins: 7451\n",
      "Win percentage: 0.7451\n"
     ]
    }
   ],
   "source": [
    "max_games = 1000\n",
    "wins = 0\n",
    "for i in range(max_games):\n",
    "    win = testModel(model3, 'random', display=False)\n",
    "    if win:\n",
    "        wins += 1\n",
    "win_perc = float(wins) / float(max_games)\n",
    "print(\"Games played: {0}, # of wins: {1}\".format(max_games,wins))\n",
    "print(\"Win percentage: {}\".format(win_perc))"
   ]
  },
  {
   "cell_type": "code",
   "execution_count": 83,
   "metadata": {},
   "outputs": [
    {
     "data": {
      "text/plain": [
       "[<matplotlib.lines.Line2D at 0x10cf48898>]"
      ]
     },
     "execution_count": 83,
     "metadata": {},
     "output_type": "execute_result"
    },
    {
     "data": {
      "image/png": "[encoded data removed]",
      "text/plain": [
       "<matplotlib.figure.Figure at 0x10c63f320>"
      ]
     },
     "metadata": {},
     "output_type": "display_data"
    }
   ],
   "source": [
    "plt.figure(figsize=(15,10))\n",
    "plt.ylabel(\"Loss\")\n",
    "plt.xlabel(\"Training Steps\")\n",
    "plt.plot(running_mean(losses, 500))\n",
    "#plt.savefig(\"dqn_3_loss_plot.pdf\", format=\"pdf\")"
   ]
  },
  {
   "cell_type": "code",
   "execution_count": null,
   "metadata": {},
   "outputs": [],
   "source": []
  }
 ],
 "metadata": {
  "kernelspec": {
   "display_name": "Python 3",
   "language": "python",
   "name": "python3"
  },
  "language_info": {
   "codemirror_mode": {
    "name": "ipython",
    "version": 3
   },
   "file_extension": ".py",
   "mimetype": "text/x-python",
   "name": "python",
   "nbconvert_exporter": "python",
   "pygments_lexer": "ipython3",
   "version": "3.6.8"
  }
 },
 "nbformat": 4,
 "nbformat_minor": 2
}
